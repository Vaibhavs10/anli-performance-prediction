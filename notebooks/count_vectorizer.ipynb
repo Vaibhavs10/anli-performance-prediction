{
 "cells": [
  {
   "cell_type": "code",
   "execution_count": 2,
   "metadata": {},
   "outputs": [],
   "source": [
    "#Importing the required modules\n",
    "import numpy as np\n",
    "from collections import defaultdict \n",
    " \n",
    "#Sample text corpus\n",
    "data = ['She loves pizza, pizza is delicious.','She is a good person.','good people are the best.']\n",
    " \n",
    "#clean the corpus.\n",
    "sentences = []\n",
    "vocab = []\n",
    "for sent in data:\n",
    "    x = sent.split(\" \")\n",
    "    sentence = [w.lower() for w in x if w.isalpha() ]\n",
    "    sentences.append(sentence)\n",
    "    for word in sentence:\n",
    "        if word not in vocab:\n",
    "            vocab.append(word)\n",
    " \n",
    "#number of words in the vocab\n",
    "len_vector = len(vocab)"
   ]
  },
  {
   "cell_type": "code",
   "execution_count": 3,
   "metadata": {},
   "outputs": [],
   "source": [
    "#Index dictionary to assign an index to each word in vocabulary\n",
    "index_word = {}\n",
    "i = 0\n",
    "for word in vocab:\n",
    "    index_word[word] = i \n",
    "    i += 1"
   ]
  },
  {
   "cell_type": "code",
   "execution_count": 4,
   "metadata": {},
   "outputs": [],
   "source": [
    "def bag_of_words(sent):\n",
    "    count_dict = defaultdict(int)\n",
    "    vec = np.zeros(len_vector)\n",
    "    for item in sent:\n",
    "        count_dict[item] += 1\n",
    "    for key,item in count_dict.items():\n",
    "        vec[index_word[key]] = item\n",
    "    return vec   "
   ]
  },
  {
   "cell_type": "code",
   "execution_count": 5,
   "metadata": {},
   "outputs": [
    {
     "name": "stdout",
     "output_type": "stream",
     "text": [
      "[1. 1. 1. 1. 0. 0. 0. 0. 0.]\n"
     ]
    }
   ],
   "source": [
    "vector = bag_of_words(sentences[0])\n",
    "print(vector)"
   ]
  },
  {
   "cell_type": "code",
   "execution_count": 6,
   "metadata": {},
   "outputs": [],
   "source": [
    "## Scaling this up"
   ]
  },
  {
   "cell_type": "code",
   "execution_count": 8,
   "metadata": {},
   "outputs": [],
   "source": [
    "import numpy as np\n",
    "from csv import reader\n",
    "from collections import defaultdict "
   ]
  },
  {
   "cell_type": "code",
   "execution_count": 9,
   "metadata": {},
   "outputs": [],
   "source": [
    "with open('../utils/data/processed_data/train.csv', 'r') as read_obj:\n",
    "    # pass the file object to reader() to get the reader object\n",
    "    csv_reader = reader(read_obj)\n",
    "    # Pass reader object to list() to get a list of lists\n",
    "    list_of_rows = list(csv_reader)"
   ]
  },
  {
   "cell_type": "code",
   "execution_count": 15,
   "metadata": {},
   "outputs": [],
   "source": [
    "#clean the corpus.\n",
    "sentences = []\n",
    "vocab = []\n",
    "for sent in list_of_rows:\n",
    "    new_sent = sent[1] + \" \" + sent[2] + \" \" + sent[3] + \" \" + sent[4]\n",
    "    x = new_sent.split(\" \")\n",
    "    sentence = [w.lower() for w in x if w.isalpha() ]\n",
    "    sentences.append(sentence)\n",
    "    for word in sentence:\n",
    "        if word not in vocab:\n",
    "            vocab.append(word)"
   ]
  },
  {
   "cell_type": "code",
   "execution_count": 17,
   "metadata": {},
   "outputs": [],
   "source": [
    "index_word = {}\n",
    "i = 0\n",
    "for word in vocab:\n",
    "    index_word[word] = i \n",
    "    i += 1"
   ]
  },
  {
   "cell_type": "code",
   "execution_count": 19,
   "metadata": {},
   "outputs": [],
   "source": [
    "def bag_of_words(sent):\n",
    "    count_dict = defaultdict(int)\n",
    "    vec = np.zeros(len_vector)\n",
    "    for item in sent:\n",
    "        count_dict[item] += 1\n",
    "    for key,item in count_dict.items():\n",
    "        vec[index_word[key]] = item\n",
    "    return vec   "
   ]
  },
  {
   "cell_type": "code",
   "execution_count": 30,
   "metadata": {},
   "outputs": [
    {
     "data": {
      "text/plain": [
       "array([3., 1., 3., ..., 0., 0., 0.])"
      ]
     },
     "execution_count": 30,
     "metadata": {},
     "output_type": "execute_result"
    }
   ],
   "source": [
    "#bag_of_words([w.lower() for w in list_of_rows[1][1].split(\" \") if w.isalpha()])\n",
    "len_vector = len(vocab)\n",
    "temp = [w.lower() for w in list_of_rows[1][1].split(\" \") if w.isalpha()]\n",
    "\n",
    "bag_of_words(sentences[0])"
   ]
  },
  {
   "cell_type": "code",
   "execution_count": null,
   "metadata": {},
   "outputs": [],
   "source": []
  }
 ],
 "metadata": {
  "kernelspec": {
   "display_name": "Python 3",
   "language": "python",
   "name": "python3"
  },
  "language_info": {
   "codemirror_mode": {
    "name": "ipython",
    "version": 3
   },
   "file_extension": ".py",
   "mimetype": "text/x-python",
   "name": "python",
   "nbconvert_exporter": "python",
   "pygments_lexer": "ipython3",
   "version": "3.7.6"
  }
 },
 "nbformat": 4,
 "nbformat_minor": 4
}
