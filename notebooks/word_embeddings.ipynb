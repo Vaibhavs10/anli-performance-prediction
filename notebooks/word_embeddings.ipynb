{
 "cells": [
  {
   "cell_type": "code",
   "execution_count": 54,
   "metadata": {},
   "outputs": [],
   "source": [
    "import os\n",
    "import gensim\n",
    "from gensim.scripts.glove2word2vec import glove2word2vec\n",
    "from gensim.models import KeyedVectors\n",
    "from gensim.models.word2vec import Word2Vec\n",
    "from gensim.models.doc2vec import Doc2Vec\n",
    "from gensim.models.doc2vec import TaggedDocument\n",
    "from gensim.test.utils import common_texts\n",
    "from gensim.models.fasttext import FastText\n",
    "\n",
    "import numpy as np\n",
    "import pandas as pd"
   ]
  },
  {
   "cell_type": "code",
   "execution_count": 2,
   "metadata": {},
   "outputs": [],
   "source": [
    "from tqdm import tqdm\n",
    "class TqdmUpTo(tqdm):\n",
    "    def update_to(self, b=1, bsize=1, tsize=None):\n",
    "        if tsize is not None: self.total = tsize\n",
    "        self.update(b * bsize - self.n)\n",
    "\n",
    "def get_data(url, filename):\n",
    "    \"\"\"\n",
    "    Download data if the filename does not exist already\n",
    "    Uses Tqdm to show download progress\n",
    "    \"\"\"\n",
    "    import os\n",
    "    from urllib.request import urlretrieve\n",
    "    \n",
    "    if not os.path.exists(filename):\n",
    "\n",
    "        dirname = os.path.dirname(filename)\n",
    "        if not os.path.exists(dirname):\n",
    "            os.makedirs(dirname)\n",
    "\n",
    "        with TqdmUpTo(unit='B', unit_scale=True, miniters=1, desc=url.split('/')[-1]) as t:\n",
    "            urlretrieve(url, filename, reporthook=t.update_to)"
   ]
  },
  {
   "cell_type": "code",
   "execution_count": 3,
   "metadata": {},
   "outputs": [
    {
     "name": "stderr",
     "output_type": "stream",
     "text": [
      "glove.6B.zip: 862MB [07:19, 1.96MB/s]                               \n"
     ]
    }
   ],
   "source": [
    "embedding_url = 'http://nlp.stanford.edu/data/glove.6B.zip'\n",
    "get_data(embedding_url, 'data/glove.6B.zip')"
   ]
  },
  {
   "cell_type": "code",
   "execution_count": 4,
   "metadata": {},
   "outputs": [
    {
     "name": "stdout",
     "output_type": "stream",
     "text": [
      "/usr/bin/sh: 1: unzip: not found\n",
      "mv: cannot stat 'glove.6B.300d.txt': No such file or directory\n",
      "mv: cannot stat 'glove.6B.200d.txt': No such file or directory\n",
      "mv: cannot stat 'glove.6B.100d.txt': No such file or directory\n",
      "mv: cannot stat 'glove.6B.50d.txt': No such file or directory\n"
     ]
    }
   ],
   "source": [
    "!unzip data/glove.6B.zip \n",
    "!mv glove.6B.300d.txt data/glove.6B.300d.txt \n",
    "!mv glove.6B.200d.txt data/glove.6B.200d.txt \n",
    "!mv glove.6B.100d.txt data/glove.6B.100d.txt \n",
    "!mv glove.6B.50d.txt data/glove.6B.50d.txt"
   ]
  },
  {
   "cell_type": "code",
   "execution_count": 3,
   "metadata": {},
   "outputs": [],
   "source": [
    "glove_input_file = 'data/glove.6B.300d.txt'\n",
    "word2vec_output_file = 'data/glove.6B.300d.word2vec.txt'"
   ]
  },
  {
   "cell_type": "code",
   "execution_count": 4,
   "metadata": {},
   "outputs": [],
   "source": [
    "if not os.path.exists(word2vec_output_file):\n",
    "    glove2word2vec(glove_input_file, word2vec_output_file)"
   ]
  },
  {
   "cell_type": "code",
   "execution_count": 5,
   "metadata": {},
   "outputs": [],
   "source": [
    "filename = word2vec_output_file "
   ]
  },
  {
   "cell_type": "code",
   "execution_count": 6,
   "metadata": {},
   "outputs": [
    {
     "name": "stdout",
     "output_type": "stream",
     "text": [
      "CPU times: user 2min 8s, sys: 5.36 s, total: 2min 13s\n",
      "Wall time: 2min 46s\n"
     ]
    }
   ],
   "source": [
    "%%time\n",
    "# load the Stanford GloVe model from file, this is Disk I/O and can be slow\n",
    "pretrained_w2v_model = KeyedVectors.load_word2vec_format(word2vec_output_file, binary=False)\n",
    "# binary=False format for human readable text (.txt) files, and binary=True for .bin files "
   ]
  },
  {
   "cell_type": "code",
   "execution_count": 7,
   "metadata": {},
   "outputs": [
    {
     "name": "stdout",
     "output_type": "stream",
     "text": [
      "[('queen', 0.6713276505470276)]\n"
     ]
    }
   ],
   "source": [
    "# calculate: (king - man) + woman = ?\n",
    "result = pretrained_w2v_model.most_similar(positive=['woman', 'king'], negative=['man'], topn=1)\n",
    "print(result)"
   ]
  },
  {
   "cell_type": "code",
   "execution_count": 14,
   "metadata": {},
   "outputs": [
    {
     "name": "stdout",
     "output_type": "stream",
     "text": [
      "dev.csv  train.csv\r\n"
     ]
    }
   ],
   "source": [
    "!cd .. && cd utils && cd data && cd processed_data && ls"
   ]
  },
  {
   "cell_type": "code",
   "execution_count": 20,
   "metadata": {},
   "outputs": [],
   "source": [
    "df = pd.read_csv(\"../utils/data/processed_data/train.csv\", names = [\"story_id\", \"obs1\", \"obs2\", \"hyp1\", \"hyp2\", \"label\"])"
   ]
  },
  {
   "cell_type": "code",
   "execution_count": 23,
   "metadata": {},
   "outputs": [],
   "source": [
    "obs1 = df[\"obs1\"].tolist()\n",
    "obs2 = df[\"obs2\"].tolist()\n",
    "hyp1 = df[\"hyp1\"].tolist()\n",
    "hyp2 = df[\"hyp2\"].tolist()"
   ]
  },
  {
   "cell_type": "code",
   "execution_count": 25,
   "metadata": {},
   "outputs": [],
   "source": [
    "all_text = obs1 + obs2 + hyp1 + hyp2"
   ]
  },
  {
   "cell_type": "code",
   "execution_count": 33,
   "metadata": {},
   "outputs": [],
   "source": [
    "processed_text = []\n",
    "for text in all_text:\n",
    "    processed_text.append(text.split(\" \"))"
   ]
  },
  {
   "cell_type": "code",
   "execution_count": 45,
   "metadata": {},
   "outputs": [],
   "source": [
    "documents = [TaggedDocument(doc, [i]) for i, doc in enumerate(processed_text)]"
   ]
  },
  {
   "cell_type": "markdown",
   "metadata": {},
   "source": [
    "# Training a Doc2Vec model"
   ]
  },
  {
   "cell_type": "code",
   "execution_count": 46,
   "metadata": {},
   "outputs": [],
   "source": [
    "doc2vec_base_model = Doc2Vec(dm=0, vector_size=100, negative=5, hs=0, min_count=2, epochs=5, workers=-1)"
   ]
  },
  {
   "cell_type": "code",
   "execution_count": 48,
   "metadata": {},
   "outputs": [
    {
     "name": "stdout",
     "output_type": "stream",
     "text": [
      "CPU times: user 2.94 s, sys: 234 ms, total: 3.17 s\n",
      "Wall time: 3.17 s\n"
     ]
    }
   ],
   "source": [
    "%%time\n",
    "\n",
    "doc2vec_base_model.build_vocab(documents)"
   ]
  },
  {
   "cell_type": "code",
   "execution_count": 49,
   "metadata": {},
   "outputs": [
    {
     "data": {
      "text/plain": [
       "array([-0.00290196, -0.00148584, -0.00139852,  0.00190343, -0.00373284,\n",
       "       -0.00137311, -0.00450431, -0.00383791,  0.00236699, -0.0031576 ,\n",
       "        0.00148719, -0.00291967,  0.00300254, -0.00267439, -0.00274993,\n",
       "       -0.00127494,  0.00227505, -0.00320041, -0.00394575, -0.00174675,\n",
       "        0.00142009, -0.00391585,  0.00038249, -0.00446946, -0.00064276,\n",
       "        0.00168029,  0.00441429, -0.00157894,  0.00166953,  0.00288979,\n",
       "        0.00407829,  0.0039332 , -0.00069688,  0.00191259,  0.00029152,\n",
       "       -0.0048022 , -0.00035559,  0.00424788,  0.00351371,  0.00401065,\n",
       "       -0.00236547, -0.00473242,  0.00312831,  0.00463834,  0.00300489,\n",
       "       -0.00406328, -0.00181197,  0.00452758, -0.00156318, -0.00124377,\n",
       "       -0.00049196,  0.00382311, -0.00321055,  0.00011194, -0.00491443,\n",
       "        0.00071475, -0.00222727, -0.00247447, -0.00074043,  0.00462786,\n",
       "       -0.00456153, -0.00444072, -0.00034415, -0.00464947, -0.00204079,\n",
       "       -0.00424233, -0.00282344,  0.0011066 ,  0.00480799, -0.00302454,\n",
       "       -0.00226246, -0.00015749, -0.00260251, -0.00318049,  0.00411291,\n",
       "       -0.00392665, -0.00223288, -0.00373775, -0.00492711,  0.00316466,\n",
       "       -0.00176263,  0.00174455, -0.00250848,  0.00110967,  0.00473097,\n",
       "        0.00466076, -0.00029244, -0.0010868 , -0.00178108,  0.00480682,\n",
       "       -0.00459351,  0.00279271,  0.00438027,  0.0003395 ,  0.00160476,\n",
       "        0.00472926, -0.00303001, -0.0031151 , -0.0025099 , -0.00286773],\n",
       "      dtype=float32)"
      ]
     },
     "execution_count": 49,
     "metadata": {},
     "output_type": "execute_result"
    }
   ],
   "source": [
    "doc2vec_base_model.infer_vector(processed_text[0])"
   ]
  },
  {
   "cell_type": "markdown",
   "metadata": {},
   "source": [
    "# Training a FastText model"
   ]
  },
  {
   "cell_type": "code",
   "execution_count": 52,
   "metadata": {},
   "outputs": [],
   "source": [
    "fasttext_base_model = FastText(processed_text, vector_size=100, window=5, min_count=5, workers=-1, sg=1)"
   ]
  },
  {
   "cell_type": "code",
   "execution_count": 53,
   "metadata": {},
   "outputs": [
    {
     "data": {
      "text/plain": [
       "array([-2.2939106e-03,  1.1612010e-03,  2.2233955e-03,  1.1669899e-03,\n",
       "       -1.0534826e-03,  2.4040132e-04, -2.5102382e-03, -2.0270837e-04,\n",
       "        1.2936351e-04, -2.9297101e-03,  3.1619554e-04,  5.8306177e-04,\n",
       "       -1.9637542e-03,  5.0960947e-03,  2.5835370e-03,  3.3056847e-04,\n",
       "        2.1819957e-04,  3.4515810e-04, -1.6507604e-03,  4.5414671e-04,\n",
       "       -1.5155672e-03,  2.6436618e-03, -7.6703227e-04,  9.7881549e-04,\n",
       "        4.0063684e-04,  2.2443405e-03,  3.4055440e-03, -1.7007887e-03,\n",
       "        3.8962893e-03, -1.3323580e-03,  2.7593544e-03, -2.6234465e-03,\n",
       "        4.3789347e-05,  3.1632686e-03, -2.1066098e-03, -8.1642630e-04,\n",
       "        7.8480656e-04,  7.1367639e-04,  1.4462688e-03,  1.1740879e-03,\n",
       "        6.5752474e-04, -9.9569187e-04,  1.9538745e-03,  2.1816550e-03,\n",
       "       -2.6893481e-03,  2.9551669e-05,  9.0989994e-04,  2.0642153e-03,\n",
       "        2.8098500e-03,  3.2143644e-03,  1.0430771e-03, -1.7371923e-03,\n",
       "       -9.3971752e-04, -4.6474437e-04,  1.3880846e-04, -1.3102989e-05,\n",
       "        1.5149742e-03, -4.2265630e-03, -1.7872160e-04, -3.7876741e-04,\n",
       "       -3.9660881e-04, -1.6939915e-03,  3.4626294e-04, -2.9096464e-03,\n",
       "       -2.5985911e-04, -2.4065771e-03, -1.0316203e-03,  2.1677018e-04,\n",
       "       -8.5742917e-04, -8.5377577e-04, -2.7966907e-03,  2.5392920e-03,\n",
       "       -2.3030429e-03,  1.0491515e-03, -2.5233405e-04, -1.7919416e-04,\n",
       "       -1.0916435e-03,  1.5381109e-03,  2.9991006e-03,  1.4395592e-03,\n",
       "       -4.2076781e-04, -4.0499181e-03, -2.6312654e-03, -3.7047631e-04,\n",
       "       -9.8527584e-04,  2.3744383e-03,  2.6161545e-03, -1.7072166e-03,\n",
       "       -1.4323037e-03,  3.1084188e-03,  1.6544531e-03, -1.4119854e-03,\n",
       "       -1.4697578e-03, -2.5857503e-03, -2.4369026e-03,  6.8036275e-04,\n",
       "       -4.9245398e-04, -1.2719424e-03,  2.0643258e-03, -9.2914444e-04],\n",
       "      dtype=float32)"
      ]
     },
     "execution_count": 53,
     "metadata": {},
     "output_type": "execute_result"
    }
   ],
   "source": [
    "fasttext_base_model.wv[\"Chad\"]"
   ]
  },
  {
   "cell_type": "code",
   "execution_count": 55,
   "metadata": {},
   "outputs": [],
   "source": [
    "def get_sentence_vector(model, text):\n",
    "    vectors = []\n",
    "    for token in text:\n",
    "        vec = model.wv[token]\n",
    "        norm = np.linalg.norm(vec)\n",
    "        if norm > 0:\n",
    "            vec /= norm\n",
    "        vectors.append(vec)\n",
    "    return np.mean(vectors, axis=0)"
   ]
  },
  {
   "cell_type": "code",
   "execution_count": 56,
   "metadata": {},
   "outputs": [
    {
     "ename": "ValueError",
     "evalue": "output array is read-only",
     "output_type": "error",
     "traceback": [
      "\u001b[0;31m---------------------------------------------------------------------------\u001b[0m",
      "\u001b[0;31mValueError\u001b[0m                                Traceback (most recent call last)",
      "\u001b[0;32m<ipython-input-56-81b31b6ffec3>\u001b[0m in \u001b[0;36m<module>\u001b[0;34m\u001b[0m\n\u001b[0;32m----> 1\u001b[0;31m \u001b[0mget_sentence_vector\u001b[0m\u001b[0;34m(\u001b[0m\u001b[0mfasttext_base_model\u001b[0m\u001b[0;34m,\u001b[0m \u001b[0mprocessed_text\u001b[0m\u001b[0;34m[\u001b[0m\u001b[0;36m0\u001b[0m\u001b[0;34m]\u001b[0m\u001b[0;34m)\u001b[0m\u001b[0;34m\u001b[0m\u001b[0;34m\u001b[0m\u001b[0m\n\u001b[0m",
      "\u001b[0;32m<ipython-input-55-ddba3db9a7b5>\u001b[0m in \u001b[0;36mget_sentence_vector\u001b[0;34m(model, text)\u001b[0m\n\u001b[1;32m      5\u001b[0m         \u001b[0mnorm\u001b[0m \u001b[0;34m=\u001b[0m \u001b[0mnp\u001b[0m\u001b[0;34m.\u001b[0m\u001b[0mlinalg\u001b[0m\u001b[0;34m.\u001b[0m\u001b[0mnorm\u001b[0m\u001b[0;34m(\u001b[0m\u001b[0mvec\u001b[0m\u001b[0;34m)\u001b[0m\u001b[0;34m\u001b[0m\u001b[0;34m\u001b[0m\u001b[0m\n\u001b[1;32m      6\u001b[0m         \u001b[0;32mif\u001b[0m \u001b[0mnorm\u001b[0m \u001b[0;34m>\u001b[0m \u001b[0;36m0\u001b[0m\u001b[0;34m:\u001b[0m\u001b[0;34m\u001b[0m\u001b[0;34m\u001b[0m\u001b[0m\n\u001b[0;32m----> 7\u001b[0;31m             \u001b[0mvec\u001b[0m \u001b[0;34m/=\u001b[0m \u001b[0mnorm\u001b[0m\u001b[0;34m\u001b[0m\u001b[0;34m\u001b[0m\u001b[0m\n\u001b[0m\u001b[1;32m      8\u001b[0m         \u001b[0mvectors\u001b[0m\u001b[0;34m.\u001b[0m\u001b[0mappend\u001b[0m\u001b[0;34m(\u001b[0m\u001b[0mvec\u001b[0m\u001b[0;34m)\u001b[0m\u001b[0;34m\u001b[0m\u001b[0;34m\u001b[0m\u001b[0m\n\u001b[1;32m      9\u001b[0m     \u001b[0;32mreturn\u001b[0m \u001b[0mnp\u001b[0m\u001b[0;34m.\u001b[0m\u001b[0mmean\u001b[0m\u001b[0;34m(\u001b[0m\u001b[0mvectors\u001b[0m\u001b[0;34m,\u001b[0m \u001b[0maxis\u001b[0m\u001b[0;34m=\u001b[0m\u001b[0;36m0\u001b[0m\u001b[0;34m)\u001b[0m\u001b[0;34m\u001b[0m\u001b[0;34m\u001b[0m\u001b[0m\n",
      "\u001b[0;31mValueError\u001b[0m: output array is read-only"
     ]
    }
   ],
   "source": [
    "get_sentence_vector(fasttext_base_model, processed_text[0])"
   ]
  },
  {
   "cell_type": "code",
   "execution_count": null,
   "metadata": {},
   "outputs": [],
   "source": []
  }
 ],
 "metadata": {
  "kernelspec": {
   "display_name": "Python 3",
   "language": "python",
   "name": "python3"
  },
  "language_info": {
   "codemirror_mode": {
    "name": "ipython",
    "version": 3
   },
   "file_extension": ".py",
   "mimetype": "text/x-python",
   "name": "python",
   "nbconvert_exporter": "python",
   "pygments_lexer": "ipython3",
   "version": "3.7.6"
  }
 },
 "nbformat": 4,
 "nbformat_minor": 4
}
